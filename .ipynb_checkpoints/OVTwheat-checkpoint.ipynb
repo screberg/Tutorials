{
 "cells": [
  {
   "cell_type": "markdown",
   "metadata": {},
   "source": [
    "## The only python libraries we need are pandas and saspy"
   ]
  },
  {
   "cell_type": "code",
   "execution_count": 73,
   "metadata": {},
   "outputs": [
    {
     "name": "stdout",
     "output_type": "stream",
     "text": [
      "SAS Connection established. Subprocess id is 64200\n",
      "\n",
      "<Airtable table:yield>\n"
     ]
    }
   ],
   "source": [
    "import os\n",
    "import json\n",
    "from pprint import pprint\n",
    "from airtable import Airtable\n",
    "import pandas as pd\n",
    "import saspy\n",
    "sas = saspy.SASsession(cfgname='winlocal')\n",
    "base_key = 'appInRX5iM5iijXuY'\n",
    "table_name = 'yield'\n",
    "airtable = Airtable(base_key, table_name, api_key=os.environ['AIRTABLE_API_KEY'])\n",
    "print(airtable)"
   ]
  },
  {
   "cell_type": "code",
   "execution_count": 75,
   "metadata": {},
   "outputs": [
    {
     "data": {
      "text/html": [
       "<div>\n",
       "<style scoped>\n",
       "    .dataframe tbody tr th:only-of-type {\n",
       "        vertical-align: middle;\n",
       "    }\n",
       "\n",
       "    .dataframe tbody tr th {\n",
       "        vertical-align: top;\n",
       "    }\n",
       "\n",
       "    .dataframe thead th {\n",
       "        text-align: right;\n",
       "    }\n",
       "</style>\n",
       "<table border=\"1\" class=\"dataframe\">\n",
       "  <thead>\n",
       "    <tr style=\"text-align: right;\">\n",
       "      <th></th>\n",
       "      <th>Date/Time</th>\n",
       "      <th>Moisture</th>\n",
       "      <th>Range</th>\n",
       "      <th>Row</th>\n",
       "      <th>SEQ#</th>\n",
       "      <th>Tstwght</th>\n",
       "      <th>Weight</th>\n",
       "      <th>entry</th>\n",
       "      <th>id</th>\n",
       "      <th>loc</th>\n",
       "      <th>lodging</th>\n",
       "      <th>plot</th>\n",
       "      <th>plot length (ft)</th>\n",
       "    </tr>\n",
       "  </thead>\n",
       "  <tbody>\n",
       "    <tr>\n",
       "      <th>0</th>\n",
       "      <td>28/05/2012:15:33:09</td>\n",
       "      <td>14.491</td>\n",
       "      <td>2</td>\n",
       "      <td>12</td>\n",
       "      <td>63</td>\n",
       "      <td>67.762</td>\n",
       "      <td>6.643</td>\n",
       "      <td>21</td>\n",
       "      <td>G47</td>\n",
       "      <td>G</td>\n",
       "      <td>2</td>\n",
       "      <td>47</td>\n",
       "      <td>18.95</td>\n",
       "    </tr>\n",
       "    <tr>\n",
       "      <th>1</th>\n",
       "      <td>28/05/2012:14:27:11</td>\n",
       "      <td>13.724</td>\n",
       "      <td>1</td>\n",
       "      <td>1</td>\n",
       "      <td>1</td>\n",
       "      <td>72.021</td>\n",
       "      <td>3.975</td>\n",
       "      <td>13</td>\n",
       "      <td>G1</td>\n",
       "      <td>G</td>\n",
       "      <td>4</td>\n",
       "      <td>1</td>\n",
       "      <td>18.75</td>\n",
       "    </tr>\n",
       "    <tr>\n",
       "      <th>2</th>\n",
       "      <td>07/06/2012:14:59:42</td>\n",
       "      <td>0</td>\n",
       "      <td>4</td>\n",
       "      <td>19</td>\n",
       "      <td>1</td>\n",
       "      <td>0</td>\n",
       "      <td>0.732</td>\n",
       "      <td>17</td>\n",
       "      <td>H76</td>\n",
       "      <td>H</td>\n",
       "      <td>NaN</td>\n",
       "      <td>76</td>\n",
       "      <td>21.00</td>\n",
       "    </tr>\n",
       "    <tr>\n",
       "      <th>3</th>\n",
       "      <td>07/06/2012:15:29:30</td>\n",
       "      <td>17.138</td>\n",
       "      <td>2</td>\n",
       "      <td>16</td>\n",
       "      <td>27</td>\n",
       "      <td>67.969</td>\n",
       "      <td>2.112</td>\n",
       "      <td>20</td>\n",
       "      <td>H63</td>\n",
       "      <td>H</td>\n",
       "      <td>NaN</td>\n",
       "      <td>63</td>\n",
       "      <td>20.04</td>\n",
       "    </tr>\n",
       "    <tr>\n",
       "      <th>4</th>\n",
       "      <td>07/06/2012:15:25:03</td>\n",
       "      <td>0</td>\n",
       "      <td>1</td>\n",
       "      <td>3</td>\n",
       "      <td>21</td>\n",
       "      <td>0</td>\n",
       "      <td>0.749</td>\n",
       "      <td>17</td>\n",
       "      <td>H9</td>\n",
       "      <td>H</td>\n",
       "      <td>NaN</td>\n",
       "      <td>9</td>\n",
       "      <td>19.38</td>\n",
       "    </tr>\n",
       "  </tbody>\n",
       "</table>\n",
       "</div>"
      ],
      "text/plain": [
       "             Date/Time Moisture Range Row SEQ# Tstwght Weight entry   id loc  \\\n",
       "0  28/05/2012:15:33:09   14.491     2  12   63  67.762  6.643    21  G47   G   \n",
       "1  28/05/2012:14:27:11   13.724     1   1    1  72.021  3.975    13   G1   G   \n",
       "2  07/06/2012:14:59:42        0     4  19    1       0  0.732    17  H76   H   \n",
       "3  07/06/2012:15:29:30   17.138     2  16   27  67.969  2.112    20  H63   H   \n",
       "4  07/06/2012:15:25:03        0     1   3   21       0  0.749    17   H9   H   \n",
       "\n",
       "  lodging plot  plot length (ft)  \n",
       "0       2    47            18.95  \n",
       "1       4     1            18.75  \n",
       "2     NaN    76            21.00  \n",
       "3     NaN    63            20.04  \n",
       "4     NaN     9            19.38  "
      ]
     },
     "execution_count": 75,
     "metadata": {},
     "output_type": "execute_result"
    }
   ],
   "source": [
    "# Get All with Max Records\n",
    "examplerecords = airtable.get_all()\n",
    "    \n",
    "exampledf = pd.DataFrame.from_records((r['fields'] for r in examplerecords))\n",
    "exampledf.head()"
   ]
  },
  {
   "cell_type": "code",
   "execution_count": 61,
   "metadata": {},
   "outputs": [],
   "source": [
    "test4=test3.drop(\"createdTime\", axis=1)"
   ]
  },
  {
   "cell_type": "markdown",
   "metadata": {},
   "source": [
    "## Declare a sas libary on your local machine.  This is really just like a temp file to move data from pandas to sas.\n",
    "Windows normal string vs raw string, see: https://stackoverflow.com/questions/37400974/unicode-error-unicodeescape-codec-cant-decode-bytes-in-position-2-3-trunca"
   ]
  },
  {
   "cell_type": "code",
   "execution_count": null,
   "metadata": {},
   "outputs": [],
   "source": [
    "sas.saslib('example', path=r\"C:\\Users\\screberg\\Documents\\My SAS Files\") "
   ]
  },
  {
   "cell_type": "markdown",
   "metadata": {},
   "source": [
    "## Move data from pandas to SAS"
   ]
  },
  {
   "cell_type": "code",
   "execution_count": null,
   "metadata": {},
   "outputs": [],
   "source": [
    "examplesasdataset = sas.df2sd(df=test4,table='test4',libref='example')\n",
    "examplesasdataset.head(3)"
   ]
  },
  {
   "cell_type": "markdown",
   "metadata": {},
   "source": [
    "## This lets us look at some basic statistics for the variable of interest"
   ]
  },
  {
   "cell_type": "code",
   "execution_count": null,
   "metadata": {},
   "outputs": [],
   "source": [
    "%%SAS\n",
    "libname example 'C:\\Users\\screberg\\Documents\\My SAS Files';\n",
    "proc univariate data=example.examplesasdataset; \n",
    "Var Length; /*choose the variable you are interested in such as Length*/\n",
    "Histogram;\n",
    "run;\n",
    "/*If you are concerned about whether the data were imported correctly, you can compare statistics derived from proc univariate\n",
    "(such as mean, median, variance, etc) to those calculated in excel. They should be identical.*/\n"
   ]
  },
  {
   "cell_type": "code",
   "execution_count": null,
   "metadata": {},
   "outputs": [],
   "source": [
    "%%SAS\n",
    "proc sgplot data=example.examplesasdataset;\n",
    "vbox length / category=graft group = irrigation;\n",
    "xaxis label =\"Graft treatments\";\n",
    "yaxis label =\"Total root length (cm)\";\n",
    "run;\n",
    "quit;\n",
    "\n"
   ]
  },
  {
   "cell_type": "markdown",
   "metadata": {},
   "source": [
    "## To export your final analysis, utilize ods. Here I chose to create a pdf which I am calling exampleanalysis.pdf"
   ]
  },
  {
   "cell_type": "code",
   "execution_count": null,
   "metadata": {},
   "outputs": [],
   "source": [
    "%%SAS\n",
    "ods pdf file = \"C:\\Users\\screberg\\Documents\\My SAS Files\\exampleanalysis.pdf\"; \n",
    "ods select Tests3 MeanPlot LSMLines; /*Here I am telling the ods to create a file that only contains my basica ANOVA results, a mean plot, and the ls means with tukey sep. */\n",
    "Proc Glimmix data=example.examplesasdataset plots=studentpanel nobound;\n",
    "class Trial Rep Graft Irrigation;\n",
    "model Length = Graft|Irrigation/ ddfm=KR2;\n",
    "random Trial Rep(Trial);\n",
    "lsmeans graft/ plot=meanplot cl adjust=tukey  lines;\n",
    "run;\n",
    "ods pdf close;"
   ]
  },
  {
   "cell_type": "markdown",
   "metadata": {},
   "source": [
    "# To export your final analysis, utilize ods. Here I chose to create an excel spreadsheet which I am calling example.xlsx"
   ]
  },
  {
   "cell_type": "code",
   "execution_count": null,
   "metadata": {},
   "outputs": [],
   "source": [
    "%%SAS\n",
    "ods excel file = \"C:\\Users\\screberg\\Documents\\My SAS Files\\example.xlsx\" options(sheet_interval='none'); \n",
    "ods select Tests3 LSMeans LSMLines; /*Here I am telling the ods to create a file that only contains my basica ANOVA results, a mean plot, and the ls means with tukey sep. */\n",
    "Proc Glimmix data=example.examplesasdataset plots=studentpanel nobound;\n",
    "class Trial Rep Graft Irrigation;\n",
    "model Length = Graft|Irrigation/ ddfm=KR2;\n",
    "random Trial Rep(Trial);\n",
    "lsmeans graft/ plot=meanplot adjust=tukey cl lines;\n",
    "run;\n",
    "ods excel close;"
   ]
  },
  {
   "cell_type": "code",
   "execution_count": null,
   "metadata": {},
   "outputs": [],
   "source": []
  }
 ],
 "metadata": {
  "kernelspec": {
   "display_name": "Python 3",
   "language": "python",
   "name": "python3"
  },
  "language_info": {
   "codemirror_mode": {
    "name": "ipython",
    "version": 3
   },
   "file_extension": ".py",
   "mimetype": "text/x-python",
   "name": "python",
   "nbconvert_exporter": "python",
   "pygments_lexer": "ipython3",
   "version": "3.7.1"
  }
 },
 "nbformat": 4,
 "nbformat_minor": 2
}
